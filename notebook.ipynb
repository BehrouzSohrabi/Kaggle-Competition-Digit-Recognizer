{
 "cells": [
  {
   "cell_type": "code",
   "execution_count": 1,
   "id": "329ac52a",
   "metadata": {
    "_cell_guid": "b1076dfc-b9ad-4769-8c92-a6c4dae69d19",
    "_uuid": "8f2839f25d086af736a60e9eeb907d3b93b6e0e5",
    "execution": {
     "iopub.execute_input": "2022-12-15T05:13:36.115609Z",
     "iopub.status.busy": "2022-12-15T05:13:36.115113Z",
     "iopub.status.idle": "2022-12-15T05:13:37.250060Z",
     "shell.execute_reply": "2022-12-15T05:13:37.248866Z"
    },
    "papermill": {
     "duration": 1.145505,
     "end_time": "2022-12-15T05:13:37.253204",
     "exception": false,
     "start_time": "2022-12-15T05:13:36.107699",
     "status": "completed"
    },
    "tags": []
   },
   "outputs": [],
   "source": [
    "import numpy as np\n",
    "import pandas as pd\n",
    "from sklearn.model_selection import train_test_split\n",
    "from sklearn.decomposition import PCA\n",
    "from sklearn import svm\n",
    "from sklearn import metrics\n",
    "from sklearn import preprocessing\n",
    "\n",
    "train_file = '/kaggle/input/digit-recognizer/train.csv'\n",
    "test_file = '/kaggle/input/digit-recognizer/test.csv'"
   ]
  },
  {
   "cell_type": "markdown",
   "id": "82c2affa",
   "metadata": {
    "papermill": {
     "duration": 0.004784,
     "end_time": "2022-12-15T05:13:37.267046",
     "exception": false,
     "start_time": "2022-12-15T05:13:37.262262",
     "status": "completed"
    },
    "tags": []
   },
   "source": [
    "# Read input files"
   ]
  },
  {
   "cell_type": "code",
   "execution_count": 2,
   "id": "71f5feb3",
   "metadata": {
    "execution": {
     "iopub.execute_input": "2022-12-15T05:13:37.279694Z",
     "iopub.status.busy": "2022-12-15T05:13:37.279207Z",
     "iopub.status.idle": "2022-12-15T05:13:42.932988Z",
     "shell.execute_reply": "2022-12-15T05:13:42.931940Z"
    },
    "papermill": {
     "duration": 5.662396,
     "end_time": "2022-12-15T05:13:42.935631",
     "exception": false,
     "start_time": "2022-12-15T05:13:37.273235",
     "status": "completed"
    },
    "tags": []
   },
   "outputs": [],
   "source": [
    "df_train = pd.read_csv(train_file)\n",
    "df_test = pd.read_csv(test_file)"
   ]
  },
  {
   "cell_type": "code",
   "execution_count": 3,
   "id": "cd5f708a",
   "metadata": {
    "execution": {
     "iopub.execute_input": "2022-12-15T05:13:42.946831Z",
     "iopub.status.busy": "2022-12-15T05:13:42.946434Z",
     "iopub.status.idle": "2022-12-15T05:13:45.252406Z",
     "shell.execute_reply": "2022-12-15T05:13:45.251201Z"
    },
    "papermill": {
     "duration": 2.314948,
     "end_time": "2022-12-15T05:13:45.255265",
     "exception": false,
     "start_time": "2022-12-15T05:13:42.940317",
     "status": "completed"
    },
    "tags": []
   },
   "outputs": [
    {
     "data": {
      "text/html": [
       "<div>\n",
       "<style scoped>\n",
       "    .dataframe tbody tr th:only-of-type {\n",
       "        vertical-align: middle;\n",
       "    }\n",
       "\n",
       "    .dataframe tbody tr th {\n",
       "        vertical-align: top;\n",
       "    }\n",
       "\n",
       "    .dataframe thead th {\n",
       "        text-align: right;\n",
       "    }\n",
       "</style>\n",
       "<table border=\"1\" class=\"dataframe\">\n",
       "  <thead>\n",
       "    <tr style=\"text-align: right;\">\n",
       "      <th></th>\n",
       "      <th>label</th>\n",
       "      <th>pixel0</th>\n",
       "      <th>pixel1</th>\n",
       "      <th>pixel2</th>\n",
       "      <th>pixel3</th>\n",
       "      <th>pixel4</th>\n",
       "      <th>pixel5</th>\n",
       "      <th>pixel6</th>\n",
       "      <th>pixel7</th>\n",
       "      <th>pixel8</th>\n",
       "      <th>...</th>\n",
       "      <th>pixel774</th>\n",
       "      <th>pixel775</th>\n",
       "      <th>pixel776</th>\n",
       "      <th>pixel777</th>\n",
       "      <th>pixel778</th>\n",
       "      <th>pixel779</th>\n",
       "      <th>pixel780</th>\n",
       "      <th>pixel781</th>\n",
       "      <th>pixel782</th>\n",
       "      <th>pixel783</th>\n",
       "    </tr>\n",
       "  </thead>\n",
       "  <tbody>\n",
       "    <tr>\n",
       "      <th>count</th>\n",
       "      <td>42000.000000</td>\n",
       "      <td>42000.0</td>\n",
       "      <td>42000.0</td>\n",
       "      <td>42000.0</td>\n",
       "      <td>42000.0</td>\n",
       "      <td>42000.0</td>\n",
       "      <td>42000.0</td>\n",
       "      <td>42000.0</td>\n",
       "      <td>42000.0</td>\n",
       "      <td>42000.0</td>\n",
       "      <td>...</td>\n",
       "      <td>42000.000000</td>\n",
       "      <td>42000.000000</td>\n",
       "      <td>42000.000000</td>\n",
       "      <td>42000.00000</td>\n",
       "      <td>42000.000000</td>\n",
       "      <td>42000.000000</td>\n",
       "      <td>42000.0</td>\n",
       "      <td>42000.0</td>\n",
       "      <td>42000.0</td>\n",
       "      <td>42000.0</td>\n",
       "    </tr>\n",
       "    <tr>\n",
       "      <th>mean</th>\n",
       "      <td>4.456643</td>\n",
       "      <td>0.0</td>\n",
       "      <td>0.0</td>\n",
       "      <td>0.0</td>\n",
       "      <td>0.0</td>\n",
       "      <td>0.0</td>\n",
       "      <td>0.0</td>\n",
       "      <td>0.0</td>\n",
       "      <td>0.0</td>\n",
       "      <td>0.0</td>\n",
       "      <td>...</td>\n",
       "      <td>0.219286</td>\n",
       "      <td>0.117095</td>\n",
       "      <td>0.059024</td>\n",
       "      <td>0.02019</td>\n",
       "      <td>0.017238</td>\n",
       "      <td>0.002857</td>\n",
       "      <td>0.0</td>\n",
       "      <td>0.0</td>\n",
       "      <td>0.0</td>\n",
       "      <td>0.0</td>\n",
       "    </tr>\n",
       "    <tr>\n",
       "      <th>std</th>\n",
       "      <td>2.887730</td>\n",
       "      <td>0.0</td>\n",
       "      <td>0.0</td>\n",
       "      <td>0.0</td>\n",
       "      <td>0.0</td>\n",
       "      <td>0.0</td>\n",
       "      <td>0.0</td>\n",
       "      <td>0.0</td>\n",
       "      <td>0.0</td>\n",
       "      <td>0.0</td>\n",
       "      <td>...</td>\n",
       "      <td>6.312890</td>\n",
       "      <td>4.633819</td>\n",
       "      <td>3.274488</td>\n",
       "      <td>1.75987</td>\n",
       "      <td>1.894498</td>\n",
       "      <td>0.414264</td>\n",
       "      <td>0.0</td>\n",
       "      <td>0.0</td>\n",
       "      <td>0.0</td>\n",
       "      <td>0.0</td>\n",
       "    </tr>\n",
       "    <tr>\n",
       "      <th>min</th>\n",
       "      <td>0.000000</td>\n",
       "      <td>0.0</td>\n",
       "      <td>0.0</td>\n",
       "      <td>0.0</td>\n",
       "      <td>0.0</td>\n",
       "      <td>0.0</td>\n",
       "      <td>0.0</td>\n",
       "      <td>0.0</td>\n",
       "      <td>0.0</td>\n",
       "      <td>0.0</td>\n",
       "      <td>...</td>\n",
       "      <td>0.000000</td>\n",
       "      <td>0.000000</td>\n",
       "      <td>0.000000</td>\n",
       "      <td>0.00000</td>\n",
       "      <td>0.000000</td>\n",
       "      <td>0.000000</td>\n",
       "      <td>0.0</td>\n",
       "      <td>0.0</td>\n",
       "      <td>0.0</td>\n",
       "      <td>0.0</td>\n",
       "    </tr>\n",
       "    <tr>\n",
       "      <th>25%</th>\n",
       "      <td>2.000000</td>\n",
       "      <td>0.0</td>\n",
       "      <td>0.0</td>\n",
       "      <td>0.0</td>\n",
       "      <td>0.0</td>\n",
       "      <td>0.0</td>\n",
       "      <td>0.0</td>\n",
       "      <td>0.0</td>\n",
       "      <td>0.0</td>\n",
       "      <td>0.0</td>\n",
       "      <td>...</td>\n",
       "      <td>0.000000</td>\n",
       "      <td>0.000000</td>\n",
       "      <td>0.000000</td>\n",
       "      <td>0.00000</td>\n",
       "      <td>0.000000</td>\n",
       "      <td>0.000000</td>\n",
       "      <td>0.0</td>\n",
       "      <td>0.0</td>\n",
       "      <td>0.0</td>\n",
       "      <td>0.0</td>\n",
       "    </tr>\n",
       "    <tr>\n",
       "      <th>50%</th>\n",
       "      <td>4.000000</td>\n",
       "      <td>0.0</td>\n",
       "      <td>0.0</td>\n",
       "      <td>0.0</td>\n",
       "      <td>0.0</td>\n",
       "      <td>0.0</td>\n",
       "      <td>0.0</td>\n",
       "      <td>0.0</td>\n",
       "      <td>0.0</td>\n",
       "      <td>0.0</td>\n",
       "      <td>...</td>\n",
       "      <td>0.000000</td>\n",
       "      <td>0.000000</td>\n",
       "      <td>0.000000</td>\n",
       "      <td>0.00000</td>\n",
       "      <td>0.000000</td>\n",
       "      <td>0.000000</td>\n",
       "      <td>0.0</td>\n",
       "      <td>0.0</td>\n",
       "      <td>0.0</td>\n",
       "      <td>0.0</td>\n",
       "    </tr>\n",
       "    <tr>\n",
       "      <th>75%</th>\n",
       "      <td>7.000000</td>\n",
       "      <td>0.0</td>\n",
       "      <td>0.0</td>\n",
       "      <td>0.0</td>\n",
       "      <td>0.0</td>\n",
       "      <td>0.0</td>\n",
       "      <td>0.0</td>\n",
       "      <td>0.0</td>\n",
       "      <td>0.0</td>\n",
       "      <td>0.0</td>\n",
       "      <td>...</td>\n",
       "      <td>0.000000</td>\n",
       "      <td>0.000000</td>\n",
       "      <td>0.000000</td>\n",
       "      <td>0.00000</td>\n",
       "      <td>0.000000</td>\n",
       "      <td>0.000000</td>\n",
       "      <td>0.0</td>\n",
       "      <td>0.0</td>\n",
       "      <td>0.0</td>\n",
       "      <td>0.0</td>\n",
       "    </tr>\n",
       "    <tr>\n",
       "      <th>max</th>\n",
       "      <td>9.000000</td>\n",
       "      <td>0.0</td>\n",
       "      <td>0.0</td>\n",
       "      <td>0.0</td>\n",
       "      <td>0.0</td>\n",
       "      <td>0.0</td>\n",
       "      <td>0.0</td>\n",
       "      <td>0.0</td>\n",
       "      <td>0.0</td>\n",
       "      <td>0.0</td>\n",
       "      <td>...</td>\n",
       "      <td>254.000000</td>\n",
       "      <td>254.000000</td>\n",
       "      <td>253.000000</td>\n",
       "      <td>253.00000</td>\n",
       "      <td>254.000000</td>\n",
       "      <td>62.000000</td>\n",
       "      <td>0.0</td>\n",
       "      <td>0.0</td>\n",
       "      <td>0.0</td>\n",
       "      <td>0.0</td>\n",
       "    </tr>\n",
       "  </tbody>\n",
       "</table>\n",
       "<p>8 rows × 785 columns</p>\n",
       "</div>"
      ],
      "text/plain": [
       "              label   pixel0   pixel1   pixel2   pixel3   pixel4   pixel5  \\\n",
       "count  42000.000000  42000.0  42000.0  42000.0  42000.0  42000.0  42000.0   \n",
       "mean       4.456643      0.0      0.0      0.0      0.0      0.0      0.0   \n",
       "std        2.887730      0.0      0.0      0.0      0.0      0.0      0.0   \n",
       "min        0.000000      0.0      0.0      0.0      0.0      0.0      0.0   \n",
       "25%        2.000000      0.0      0.0      0.0      0.0      0.0      0.0   \n",
       "50%        4.000000      0.0      0.0      0.0      0.0      0.0      0.0   \n",
       "75%        7.000000      0.0      0.0      0.0      0.0      0.0      0.0   \n",
       "max        9.000000      0.0      0.0      0.0      0.0      0.0      0.0   \n",
       "\n",
       "        pixel6   pixel7   pixel8  ...      pixel774      pixel775  \\\n",
       "count  42000.0  42000.0  42000.0  ...  42000.000000  42000.000000   \n",
       "mean       0.0      0.0      0.0  ...      0.219286      0.117095   \n",
       "std        0.0      0.0      0.0  ...      6.312890      4.633819   \n",
       "min        0.0      0.0      0.0  ...      0.000000      0.000000   \n",
       "25%        0.0      0.0      0.0  ...      0.000000      0.000000   \n",
       "50%        0.0      0.0      0.0  ...      0.000000      0.000000   \n",
       "75%        0.0      0.0      0.0  ...      0.000000      0.000000   \n",
       "max        0.0      0.0      0.0  ...    254.000000    254.000000   \n",
       "\n",
       "           pixel776     pixel777      pixel778      pixel779  pixel780  \\\n",
       "count  42000.000000  42000.00000  42000.000000  42000.000000   42000.0   \n",
       "mean       0.059024      0.02019      0.017238      0.002857       0.0   \n",
       "std        3.274488      1.75987      1.894498      0.414264       0.0   \n",
       "min        0.000000      0.00000      0.000000      0.000000       0.0   \n",
       "25%        0.000000      0.00000      0.000000      0.000000       0.0   \n",
       "50%        0.000000      0.00000      0.000000      0.000000       0.0   \n",
       "75%        0.000000      0.00000      0.000000      0.000000       0.0   \n",
       "max      253.000000    253.00000    254.000000     62.000000       0.0   \n",
       "\n",
       "       pixel781  pixel782  pixel783  \n",
       "count   42000.0   42000.0   42000.0  \n",
       "mean        0.0       0.0       0.0  \n",
       "std         0.0       0.0       0.0  \n",
       "min         0.0       0.0       0.0  \n",
       "25%         0.0       0.0       0.0  \n",
       "50%         0.0       0.0       0.0  \n",
       "75%         0.0       0.0       0.0  \n",
       "max         0.0       0.0       0.0  \n",
       "\n",
       "[8 rows x 785 columns]"
      ]
     },
     "execution_count": 3,
     "metadata": {},
     "output_type": "execute_result"
    }
   ],
   "source": [
    "df_train.describe()"
   ]
  },
  {
   "cell_type": "code",
   "execution_count": 4,
   "id": "de146883",
   "metadata": {
    "execution": {
     "iopub.execute_input": "2022-12-15T05:13:45.266542Z",
     "iopub.status.busy": "2022-12-15T05:13:45.266150Z",
     "iopub.status.idle": "2022-12-15T05:13:47.393955Z",
     "shell.execute_reply": "2022-12-15T05:13:47.392848Z"
    },
    "papermill": {
     "duration": 2.136124,
     "end_time": "2022-12-15T05:13:47.396330",
     "exception": false,
     "start_time": "2022-12-15T05:13:45.260206",
     "status": "completed"
    },
    "tags": []
   },
   "outputs": [
    {
     "data": {
      "text/html": [
       "<div>\n",
       "<style scoped>\n",
       "    .dataframe tbody tr th:only-of-type {\n",
       "        vertical-align: middle;\n",
       "    }\n",
       "\n",
       "    .dataframe tbody tr th {\n",
       "        vertical-align: top;\n",
       "    }\n",
       "\n",
       "    .dataframe thead th {\n",
       "        text-align: right;\n",
       "    }\n",
       "</style>\n",
       "<table border=\"1\" class=\"dataframe\">\n",
       "  <thead>\n",
       "    <tr style=\"text-align: right;\">\n",
       "      <th></th>\n",
       "      <th>pixel0</th>\n",
       "      <th>pixel1</th>\n",
       "      <th>pixel2</th>\n",
       "      <th>pixel3</th>\n",
       "      <th>pixel4</th>\n",
       "      <th>pixel5</th>\n",
       "      <th>pixel6</th>\n",
       "      <th>pixel7</th>\n",
       "      <th>pixel8</th>\n",
       "      <th>pixel9</th>\n",
       "      <th>...</th>\n",
       "      <th>pixel774</th>\n",
       "      <th>pixel775</th>\n",
       "      <th>pixel776</th>\n",
       "      <th>pixel777</th>\n",
       "      <th>pixel778</th>\n",
       "      <th>pixel779</th>\n",
       "      <th>pixel780</th>\n",
       "      <th>pixel781</th>\n",
       "      <th>pixel782</th>\n",
       "      <th>pixel783</th>\n",
       "    </tr>\n",
       "  </thead>\n",
       "  <tbody>\n",
       "    <tr>\n",
       "      <th>count</th>\n",
       "      <td>28000.0</td>\n",
       "      <td>28000.0</td>\n",
       "      <td>28000.0</td>\n",
       "      <td>28000.0</td>\n",
       "      <td>28000.0</td>\n",
       "      <td>28000.0</td>\n",
       "      <td>28000.0</td>\n",
       "      <td>28000.0</td>\n",
       "      <td>28000.0</td>\n",
       "      <td>28000.0</td>\n",
       "      <td>...</td>\n",
       "      <td>28000.000000</td>\n",
       "      <td>28000.000000</td>\n",
       "      <td>28000.000000</td>\n",
       "      <td>28000.000000</td>\n",
       "      <td>28000.000000</td>\n",
       "      <td>28000.0</td>\n",
       "      <td>28000.0</td>\n",
       "      <td>28000.0</td>\n",
       "      <td>28000.0</td>\n",
       "      <td>28000.0</td>\n",
       "    </tr>\n",
       "    <tr>\n",
       "      <th>mean</th>\n",
       "      <td>0.0</td>\n",
       "      <td>0.0</td>\n",
       "      <td>0.0</td>\n",
       "      <td>0.0</td>\n",
       "      <td>0.0</td>\n",
       "      <td>0.0</td>\n",
       "      <td>0.0</td>\n",
       "      <td>0.0</td>\n",
       "      <td>0.0</td>\n",
       "      <td>0.0</td>\n",
       "      <td>...</td>\n",
       "      <td>0.164607</td>\n",
       "      <td>0.073214</td>\n",
       "      <td>0.028036</td>\n",
       "      <td>0.011250</td>\n",
       "      <td>0.006536</td>\n",
       "      <td>0.0</td>\n",
       "      <td>0.0</td>\n",
       "      <td>0.0</td>\n",
       "      <td>0.0</td>\n",
       "      <td>0.0</td>\n",
       "    </tr>\n",
       "    <tr>\n",
       "      <th>std</th>\n",
       "      <td>0.0</td>\n",
       "      <td>0.0</td>\n",
       "      <td>0.0</td>\n",
       "      <td>0.0</td>\n",
       "      <td>0.0</td>\n",
       "      <td>0.0</td>\n",
       "      <td>0.0</td>\n",
       "      <td>0.0</td>\n",
       "      <td>0.0</td>\n",
       "      <td>0.0</td>\n",
       "      <td>...</td>\n",
       "      <td>5.473293</td>\n",
       "      <td>3.616811</td>\n",
       "      <td>1.813602</td>\n",
       "      <td>1.205211</td>\n",
       "      <td>0.807475</td>\n",
       "      <td>0.0</td>\n",
       "      <td>0.0</td>\n",
       "      <td>0.0</td>\n",
       "      <td>0.0</td>\n",
       "      <td>0.0</td>\n",
       "    </tr>\n",
       "    <tr>\n",
       "      <th>min</th>\n",
       "      <td>0.0</td>\n",
       "      <td>0.0</td>\n",
       "      <td>0.0</td>\n",
       "      <td>0.0</td>\n",
       "      <td>0.0</td>\n",
       "      <td>0.0</td>\n",
       "      <td>0.0</td>\n",
       "      <td>0.0</td>\n",
       "      <td>0.0</td>\n",
       "      <td>0.0</td>\n",
       "      <td>...</td>\n",
       "      <td>0.000000</td>\n",
       "      <td>0.000000</td>\n",
       "      <td>0.000000</td>\n",
       "      <td>0.000000</td>\n",
       "      <td>0.000000</td>\n",
       "      <td>0.0</td>\n",
       "      <td>0.0</td>\n",
       "      <td>0.0</td>\n",
       "      <td>0.0</td>\n",
       "      <td>0.0</td>\n",
       "    </tr>\n",
       "    <tr>\n",
       "      <th>25%</th>\n",
       "      <td>0.0</td>\n",
       "      <td>0.0</td>\n",
       "      <td>0.0</td>\n",
       "      <td>0.0</td>\n",
       "      <td>0.0</td>\n",
       "      <td>0.0</td>\n",
       "      <td>0.0</td>\n",
       "      <td>0.0</td>\n",
       "      <td>0.0</td>\n",
       "      <td>0.0</td>\n",
       "      <td>...</td>\n",
       "      <td>0.000000</td>\n",
       "      <td>0.000000</td>\n",
       "      <td>0.000000</td>\n",
       "      <td>0.000000</td>\n",
       "      <td>0.000000</td>\n",
       "      <td>0.0</td>\n",
       "      <td>0.0</td>\n",
       "      <td>0.0</td>\n",
       "      <td>0.0</td>\n",
       "      <td>0.0</td>\n",
       "    </tr>\n",
       "    <tr>\n",
       "      <th>50%</th>\n",
       "      <td>0.0</td>\n",
       "      <td>0.0</td>\n",
       "      <td>0.0</td>\n",
       "      <td>0.0</td>\n",
       "      <td>0.0</td>\n",
       "      <td>0.0</td>\n",
       "      <td>0.0</td>\n",
       "      <td>0.0</td>\n",
       "      <td>0.0</td>\n",
       "      <td>0.0</td>\n",
       "      <td>...</td>\n",
       "      <td>0.000000</td>\n",
       "      <td>0.000000</td>\n",
       "      <td>0.000000</td>\n",
       "      <td>0.000000</td>\n",
       "      <td>0.000000</td>\n",
       "      <td>0.0</td>\n",
       "      <td>0.0</td>\n",
       "      <td>0.0</td>\n",
       "      <td>0.0</td>\n",
       "      <td>0.0</td>\n",
       "    </tr>\n",
       "    <tr>\n",
       "      <th>75%</th>\n",
       "      <td>0.0</td>\n",
       "      <td>0.0</td>\n",
       "      <td>0.0</td>\n",
       "      <td>0.0</td>\n",
       "      <td>0.0</td>\n",
       "      <td>0.0</td>\n",
       "      <td>0.0</td>\n",
       "      <td>0.0</td>\n",
       "      <td>0.0</td>\n",
       "      <td>0.0</td>\n",
       "      <td>...</td>\n",
       "      <td>0.000000</td>\n",
       "      <td>0.000000</td>\n",
       "      <td>0.000000</td>\n",
       "      <td>0.000000</td>\n",
       "      <td>0.000000</td>\n",
       "      <td>0.0</td>\n",
       "      <td>0.0</td>\n",
       "      <td>0.0</td>\n",
       "      <td>0.0</td>\n",
       "      <td>0.0</td>\n",
       "    </tr>\n",
       "    <tr>\n",
       "      <th>max</th>\n",
       "      <td>0.0</td>\n",
       "      <td>0.0</td>\n",
       "      <td>0.0</td>\n",
       "      <td>0.0</td>\n",
       "      <td>0.0</td>\n",
       "      <td>0.0</td>\n",
       "      <td>0.0</td>\n",
       "      <td>0.0</td>\n",
       "      <td>0.0</td>\n",
       "      <td>0.0</td>\n",
       "      <td>...</td>\n",
       "      <td>253.000000</td>\n",
       "      <td>254.000000</td>\n",
       "      <td>193.000000</td>\n",
       "      <td>187.000000</td>\n",
       "      <td>119.000000</td>\n",
       "      <td>0.0</td>\n",
       "      <td>0.0</td>\n",
       "      <td>0.0</td>\n",
       "      <td>0.0</td>\n",
       "      <td>0.0</td>\n",
       "    </tr>\n",
       "  </tbody>\n",
       "</table>\n",
       "<p>8 rows × 784 columns</p>\n",
       "</div>"
      ],
      "text/plain": [
       "        pixel0   pixel1   pixel2   pixel3   pixel4   pixel5   pixel6   pixel7  \\\n",
       "count  28000.0  28000.0  28000.0  28000.0  28000.0  28000.0  28000.0  28000.0   \n",
       "mean       0.0      0.0      0.0      0.0      0.0      0.0      0.0      0.0   \n",
       "std        0.0      0.0      0.0      0.0      0.0      0.0      0.0      0.0   \n",
       "min        0.0      0.0      0.0      0.0      0.0      0.0      0.0      0.0   \n",
       "25%        0.0      0.0      0.0      0.0      0.0      0.0      0.0      0.0   \n",
       "50%        0.0      0.0      0.0      0.0      0.0      0.0      0.0      0.0   \n",
       "75%        0.0      0.0      0.0      0.0      0.0      0.0      0.0      0.0   \n",
       "max        0.0      0.0      0.0      0.0      0.0      0.0      0.0      0.0   \n",
       "\n",
       "        pixel8   pixel9  ...      pixel774      pixel775      pixel776  \\\n",
       "count  28000.0  28000.0  ...  28000.000000  28000.000000  28000.000000   \n",
       "mean       0.0      0.0  ...      0.164607      0.073214      0.028036   \n",
       "std        0.0      0.0  ...      5.473293      3.616811      1.813602   \n",
       "min        0.0      0.0  ...      0.000000      0.000000      0.000000   \n",
       "25%        0.0      0.0  ...      0.000000      0.000000      0.000000   \n",
       "50%        0.0      0.0  ...      0.000000      0.000000      0.000000   \n",
       "75%        0.0      0.0  ...      0.000000      0.000000      0.000000   \n",
       "max        0.0      0.0  ...    253.000000    254.000000    193.000000   \n",
       "\n",
       "           pixel777      pixel778  pixel779  pixel780  pixel781  pixel782  \\\n",
       "count  28000.000000  28000.000000   28000.0   28000.0   28000.0   28000.0   \n",
       "mean       0.011250      0.006536       0.0       0.0       0.0       0.0   \n",
       "std        1.205211      0.807475       0.0       0.0       0.0       0.0   \n",
       "min        0.000000      0.000000       0.0       0.0       0.0       0.0   \n",
       "25%        0.000000      0.000000       0.0       0.0       0.0       0.0   \n",
       "50%        0.000000      0.000000       0.0       0.0       0.0       0.0   \n",
       "75%        0.000000      0.000000       0.0       0.0       0.0       0.0   \n",
       "max      187.000000    119.000000       0.0       0.0       0.0       0.0   \n",
       "\n",
       "       pixel783  \n",
       "count   28000.0  \n",
       "mean        0.0  \n",
       "std         0.0  \n",
       "min         0.0  \n",
       "25%         0.0  \n",
       "50%         0.0  \n",
       "75%         0.0  \n",
       "max         0.0  \n",
       "\n",
       "[8 rows x 784 columns]"
      ]
     },
     "execution_count": 4,
     "metadata": {},
     "output_type": "execute_result"
    }
   ],
   "source": [
    "df_test.describe()"
   ]
  },
  {
   "cell_type": "code",
   "execution_count": 5,
   "id": "b938be19",
   "metadata": {
    "execution": {
     "iopub.execute_input": "2022-12-15T05:13:47.408303Z",
     "iopub.status.busy": "2022-12-15T05:13:47.407934Z",
     "iopub.status.idle": "2022-12-15T05:13:47.414095Z",
     "shell.execute_reply": "2022-12-15T05:13:47.413122Z"
    },
    "papermill": {
     "duration": 0.014862,
     "end_time": "2022-12-15T05:13:47.416466",
     "exception": false,
     "start_time": "2022-12-15T05:13:47.401604",
     "status": "completed"
    },
    "tags": []
   },
   "outputs": [
    {
     "data": {
      "text/plain": [
       "((42000, 785), (28000, 784))"
      ]
     },
     "execution_count": 5,
     "metadata": {},
     "output_type": "execute_result"
    }
   ],
   "source": [
    "df_train.shape, df_test.shape"
   ]
  },
  {
   "cell_type": "markdown",
   "id": "a5956839",
   "metadata": {
    "papermill": {
     "duration": 0.005005,
     "end_time": "2022-12-15T05:13:47.426891",
     "exception": false,
     "start_time": "2022-12-15T05:13:47.421886",
     "status": "completed"
    },
    "tags": []
   },
   "source": [
    "# Extract X and y, and split the dataset"
   ]
  },
  {
   "cell_type": "code",
   "execution_count": 6,
   "id": "9700e9b1",
   "metadata": {
    "execution": {
     "iopub.execute_input": "2022-12-15T05:13:47.438715Z",
     "iopub.status.busy": "2022-12-15T05:13:47.438348Z",
     "iopub.status.idle": "2022-12-15T05:13:49.684444Z",
     "shell.execute_reply": "2022-12-15T05:13:49.683471Z"
    },
    "papermill": {
     "duration": 2.25513,
     "end_time": "2022-12-15T05:13:49.687134",
     "exception": false,
     "start_time": "2022-12-15T05:13:47.432004",
     "status": "completed"
    },
    "tags": []
   },
   "outputs": [],
   "source": [
    "# train dataset\n",
    "X_train = df_train.drop(\"label\", axis=1).values\n",
    "y_train = df_train[\"label\"].values\n",
    "\n",
    "# test dataset\n",
    "X_test = df_test.values\n",
    "\n",
    "# preprocess X values\n",
    "X_train = preprocessing.scale(X_train)\n",
    "X_test = preprocessing.scale(X_test)\n",
    "\n",
    "# split train into partial train and holdout (to run test on train dataset)\n",
    "X_train_partial, X_holdout, y_train_partial, y_holdout = train_test_split(X_train, y_train, train_size=.75, random_state=99)"
   ]
  },
  {
   "cell_type": "markdown",
   "id": "013557d3",
   "metadata": {
    "papermill": {
     "duration": 0.004867,
     "end_time": "2022-12-15T05:13:49.697359",
     "exception": false,
     "start_time": "2022-12-15T05:13:49.692492",
     "status": "completed"
    },
    "tags": []
   },
   "source": [
    "# Dimensionality reduction usind PCA"
   ]
  },
  {
   "cell_type": "code",
   "execution_count": 7,
   "id": "518f3329",
   "metadata": {
    "execution": {
     "iopub.execute_input": "2022-12-15T05:13:49.709307Z",
     "iopub.status.busy": "2022-12-15T05:13:49.708932Z",
     "iopub.status.idle": "2022-12-15T05:14:01.758475Z",
     "shell.execute_reply": "2022-12-15T05:14:01.757424Z"
    },
    "papermill": {
     "duration": 12.058161,
     "end_time": "2022-12-15T05:14:01.760541",
     "exception": false,
     "start_time": "2022-12-15T05:13:49.702380",
     "status": "completed"
    },
    "tags": []
   },
   "outputs": [
    {
     "name": "stdout",
     "output_type": "stream",
     "text": [
      "K = 228\n"
     ]
    },
    {
     "data": {
      "text/plain": [
       "PCA(n_components=228)"
      ]
     },
     "execution_count": 7,
     "metadata": {},
     "output_type": "execute_result"
    }
   ],
   "source": [
    "# fit initial PCA model\n",
    "pca = PCA(n_components=X_train.shape[1])\n",
    "pca.fit(X_train)\n",
    "\n",
    "# find optimal K that keeps 80% of the components\n",
    "evs = pca.explained_variance_ratio_\n",
    "evs_sum = 0\n",
    "keep = 0.9\n",
    "for k, ev in enumerate(evs):\n",
    "    evs_sum += ev\n",
    "    if evs_sum >= keep:\n",
    "        break\n",
    "print('K =', k)\n",
    "\n",
    "# fit PCA model\n",
    "n_components = k\n",
    "pca = PCA(n_components=n_components)\n",
    "pca.fit(X_train)"
   ]
  },
  {
   "cell_type": "code",
   "execution_count": 8,
   "id": "31c93adc",
   "metadata": {
    "execution": {
     "iopub.execute_input": "2022-12-15T05:14:01.773039Z",
     "iopub.status.busy": "2022-12-15T05:14:01.772554Z",
     "iopub.status.idle": "2022-12-15T05:14:02.971043Z",
     "shell.execute_reply": "2022-12-15T05:14:02.969436Z"
    },
    "papermill": {
     "duration": 1.209325,
     "end_time": "2022-12-15T05:14:02.975441",
     "exception": false,
     "start_time": "2022-12-15T05:14:01.766116",
     "status": "completed"
    },
    "tags": []
   },
   "outputs": [],
   "source": [
    "# transform the dataset\n",
    "Theta_train_partial = pca.transform(X_train_partial)\n",
    "Theta_holdout = pca.transform(X_holdout)\n",
    "Theta_train = pca.transform(X_train)\n",
    "Theta_test = pca.transform(X_test)"
   ]
  },
  {
   "cell_type": "markdown",
   "id": "2ed3881b",
   "metadata": {
    "papermill": {
     "duration": 0.012738,
     "end_time": "2022-12-15T05:14:03.001754",
     "exception": false,
     "start_time": "2022-12-15T05:14:02.989016",
     "status": "completed"
    },
    "tags": []
   },
   "source": [
    "# Find the optimal hyper parameters"
   ]
  },
  {
   "cell_type": "code",
   "execution_count": 9,
   "id": "063191be",
   "metadata": {
    "execution": {
     "iopub.execute_input": "2022-12-15T05:14:03.031549Z",
     "iopub.status.busy": "2022-12-15T05:14:03.030731Z",
     "iopub.status.idle": "2022-12-15T05:48:19.902040Z",
     "shell.execute_reply": "2022-12-15T05:48:19.901022Z"
    },
    "papermill": {
     "duration": 2056.895371,
     "end_time": "2022-12-15T05:48:19.910773",
     "exception": false,
     "start_time": "2022-12-15T05:14:03.015402",
     "status": "completed"
    },
    "tags": []
   },
   "outputs": [
    {
     "name": "stdout",
     "output_type": "stream",
     "text": [
      "Validating: kernel = rbf, gamma = scale, C = 0.5, error = 0.04390476190476189\n",
      "Validating: kernel = rbf, gamma = scale, C = 1, error = 0.037047619047618996\n",
      "Validating: kernel = rbf, gamma = scale, C = 5, error = 0.031333333333333324\n",
      "Validating: kernel = rbf, gamma = scale, C = 10, error = 0.030761904761904768\n",
      "Validating: kernel = rbf, gamma = scale, C = 15, error = 0.031714285714285695\n",
      "Validating: kernel = rbf, gamma = scale, C = 20, error = 0.03142857142857147\n",
      "Validating: kernel = rbf, gamma = scale, C = 30, error = 0.03161904761904766\n",
      "Validating: kernel = rbf, gamma = auto, C = 0.5, error = 0.06647619047619047\n",
      "Validating: kernel = rbf, gamma = auto, C = 1, error = 0.05047619047619045\n",
      "Validating: kernel = rbf, gamma = auto, C = 5, error = 0.047904761904761894\n",
      "Validating: kernel = rbf, gamma = auto, C = 10, error = 0.04819047619047623\n",
      "Validating: kernel = rbf, gamma = auto, C = 15, error = 0.04847619047619045\n",
      "Validating: kernel = rbf, gamma = auto, C = 20, error = 0.04847619047619045\n",
      "Validating: kernel = rbf, gamma = auto, C = 30, error = 0.04847619047619045\n",
      "Validating: kernel = poly, gamma = scale, C = 0.5, error = 0.0632380952380952\n",
      "Validating: kernel = poly, gamma = scale, C = 1, error = 0.04695238095238097\n",
      "Validating: kernel = poly, gamma = scale, C = 5, error = 0.02942857142857147\n",
      "Validating: kernel = poly, gamma = scale, C = 10, error = 0.026761904761904765\n",
      "Validating: kernel = poly, gamma = scale, C = 15, error = 0.025619047619047652\n",
      "Validating: kernel = poly, gamma = scale, C = 20, error = 0.02523809523809528\n",
      "Validating: kernel = poly, gamma = scale, C = 30, error = 0.02523809523809528\n",
      "Validating: kernel = poly, gamma = auto, C = 0.5, error = 0.026666666666666616\n",
      "Validating: kernel = poly, gamma = auto, C = 1, error = 0.02533333333333332\n",
      "Validating: kernel = poly, gamma = auto, C = 5, error = 0.025428571428571467\n",
      "Validating: kernel = poly, gamma = auto, C = 10, error = 0.026000000000000023\n",
      "Validating: kernel = poly, gamma = auto, C = 15, error = 0.026000000000000023\n",
      "Validating: kernel = poly, gamma = auto, C = 20, error = 0.026000000000000023\n",
      "Validating: kernel = poly, gamma = auto, C = 30, error = 0.026000000000000023\n"
     ]
    }
   ],
   "source": [
    "Cs = [0.5,1,5,10,15,20,30]\n",
    "kernels = ['rbf','poly']\n",
    "gammas = ['scale', 'auto']\n",
    "results = {'error': 1.}\n",
    "\n",
    "for kernel in kernels:\n",
    "    for gamma in gammas:\n",
    "        for C in Cs:\n",
    "            \n",
    "            # train with poly kernel\n",
    "            model = svm.SVC(kernel=kernel, gamma=gamma, C=C)\n",
    "            model.fit(Theta_train_partial, y_train_partial)\n",
    "            error = 1 - model.score(Theta_holdout, y_holdout)\n",
    "            print(f'Validating: kernel = {kernel}, gamma = {gamma}, C = {C}, error = {error}')\n",
    "            \n",
    "            # store the best C\n",
    "            if error < results['error']:\n",
    "                results = {'kernel': kernel, 'gamma': gamma, 'C': C, 'error': error}\n"
   ]
  },
  {
   "cell_type": "code",
   "execution_count": 10,
   "id": "979cc40b",
   "metadata": {
    "execution": {
     "iopub.execute_input": "2022-12-15T05:48:19.927191Z",
     "iopub.status.busy": "2022-12-15T05:48:19.926197Z",
     "iopub.status.idle": "2022-12-15T05:49:26.518690Z",
     "shell.execute_reply": "2022-12-15T05:49:26.517616Z"
    },
    "papermill": {
     "duration": 66.609769,
     "end_time": "2022-12-15T05:49:26.527632",
     "exception": false,
     "start_time": "2022-12-15T05:48:19.917863",
     "status": "completed"
    },
    "tags": []
   },
   "outputs": [
    {
     "data": {
      "text/plain": [
       "SVC(C=20, kernel='poly')"
      ]
     },
     "execution_count": 10,
     "metadata": {},
     "output_type": "execute_result"
    }
   ],
   "source": [
    "# retrain the model using the whole training dataset and the best parameters\n",
    "model = svm.SVC(kernel=results['kernel'], gamma=results['gamma'], C=results['C'])\n",
    "model.fit(Theta_train, y_train)"
   ]
  },
  {
   "cell_type": "code",
   "execution_count": 11,
   "id": "13dcc49e",
   "metadata": {
    "execution": {
     "iopub.execute_input": "2022-12-15T05:49:26.544771Z",
     "iopub.status.busy": "2022-12-15T05:49:26.543688Z",
     "iopub.status.idle": "2022-12-15T05:50:35.803435Z",
     "shell.execute_reply": "2022-12-15T05:50:35.802186Z"
    },
    "papermill": {
     "duration": 69.278146,
     "end_time": "2022-12-15T05:50:35.812927",
     "exception": false,
     "start_time": "2022-12-15T05:49:26.534781",
     "status": "completed"
    },
    "tags": []
   },
   "outputs": [
    {
     "name": "stdout",
     "output_type": "stream",
     "text": [
      "Accuracy = 0.998%\n"
     ]
    }
   ],
   "source": [
    "# calculate accuracy on tain dataset\n",
    "y_predict = model.predict(Theta_train)\n",
    "accuracy = metrics.accuracy_score(y_train, y_predict)\n",
    "print(f'Accuracy = {accuracy:.3f}%')"
   ]
  },
  {
   "cell_type": "markdown",
   "id": "478c63c9",
   "metadata": {
    "papermill": {
     "duration": 0.006812,
     "end_time": "2022-12-15T05:50:35.826830",
     "exception": false,
     "start_time": "2022-12-15T05:50:35.820018",
     "status": "completed"
    },
    "tags": []
   },
   "source": [
    "# Calculate Results for Submission"
   ]
  },
  {
   "cell_type": "code",
   "execution_count": 12,
   "id": "d7a2a5e5",
   "metadata": {
    "execution": {
     "iopub.execute_input": "2022-12-15T05:50:35.842860Z",
     "iopub.status.busy": "2022-12-15T05:50:35.842437Z",
     "iopub.status.idle": "2022-12-15T05:51:20.295583Z",
     "shell.execute_reply": "2022-12-15T05:51:20.294294Z"
    },
    "papermill": {
     "duration": 44.464453,
     "end_time": "2022-12-15T05:51:20.298390",
     "exception": false,
     "start_time": "2022-12-15T05:50:35.833937",
     "status": "completed"
    },
    "tags": []
   },
   "outputs": [],
   "source": [
    "# predict for the transformed test dataset\n",
    "y_test = model.predict(Theta_test)\n",
    "df_result = pd.DataFrame(y_test, columns=['Label'], index=np.arange(1,28001))\n",
    "df_result.to_csv('subimission.csv', index_label='ImageId')"
   ]
  }
 ],
 "metadata": {
  "kernelspec": {
   "display_name": "Python 3",
   "language": "python",
   "name": "python3"
  },
  "language_info": {
   "codemirror_mode": {
    "name": "ipython",
    "version": 3
   },
   "file_extension": ".py",
   "mimetype": "text/x-python",
   "name": "python",
   "nbconvert_exporter": "python",
   "pygments_lexer": "ipython3",
   "version": "3.7.12"
  },
  "papermill": {
   "default_parameters": {},
   "duration": 2273.491703,
   "end_time": "2022-12-15T05:51:21.231957",
   "environment_variables": {},
   "exception": null,
   "input_path": "__notebook__.ipynb",
   "output_path": "__notebook__.ipynb",
   "parameters": {},
   "start_time": "2022-12-15T05:13:27.740254",
   "version": "2.3.4"
  }
 },
 "nbformat": 4,
 "nbformat_minor": 5
}
